{
 "cells": [
  {
   "cell_type": "markdown",
   "metadata": {},
   "source": [
    "# Homework 2 Part 1"
   ]
  },
  {
   "cell_type": "markdown",
   "metadata": {},
   "source": [
    "**Problem 1** \n",
    "\n",
    "\"params\" dictionary imported below contains the parameters of Logistic Regression function that we want to update. Below is also imported and called LogisticRegression function which is defined in a way as we usually define functions. The output contains the default parameters of the function as we did not provide any parameters. Provide \"params\" dictionary as an input to to LogisticRegression function to update the parameters of the function (1 line of code)."
   ]
  },
  {
   "cell_type": "code",
   "execution_count": 8,
   "metadata": {},
   "outputs": [
    {
     "data": {
      "text/plain": [
       "LogisticRegression()"
      ]
     },
     "execution_count": 8,
     "metadata": {},
     "output_type": "execute_result"
    }
   ],
   "source": [
    "params = {\"C\" : 0.01, \"class_weight\" : \"balanced\", \"max_iter\" : 10000,\n",
    "          \"n_jobs\" : -1, \"penalty\" : \"l1\", \"random_state\" : 42}\n",
    "\n",
    "from sklearn.linear_model import LogisticRegression\n",
    "LogisticRegression()"
   ]
  },
  {
   "cell_type": "code",
   "execution_count": 9,
   "metadata": {},
   "outputs": [
    {
     "data": {
      "text/plain": [
       "LogisticRegression(C=0.01, class_weight='balanced', max_iter=10000, n_jobs=-1,\n",
       "                   penalty='l1', random_state=42)"
      ]
     },
     "execution_count": 9,
     "metadata": {},
     "output_type": "execute_result"
    }
   ],
   "source": [
    "LogisticRegression(**params)"
   ]
  },
  {
   "cell_type": "markdown",
   "metadata": {},
   "source": [
    "**Problem 2** \n",
    "\n",
    "Function sum_ takes as an input 5 numbers and returns their sum. Call sum_ function with list ls as an input(1 line of code)."
   ]
  },
  {
   "cell_type": "code",
   "execution_count": 10,
   "metadata": {},
   "outputs": [],
   "source": [
    "ls= [0, 1, 2, 10, 11]\n",
    "def sum_(a, b, c, d, e):\n",
    "    return a+b+c+d+e"
   ]
  },
  {
   "cell_type": "code",
   "execution_count": 11,
   "metadata": {},
   "outputs": [
    {
     "data": {
      "text/plain": [
       "24"
      ]
     },
     "execution_count": 11,
     "metadata": {},
     "output_type": "execute_result"
    }
   ],
   "source": [
    "sum_(*ls)"
   ]
  },
  {
   "cell_type": "markdown",
   "metadata": {},
   "source": [
    "**Problem 3** \n",
    "\n",
    "Make below list an iterator and with call to next function output the first element of the list."
   ]
  },
  {
   "cell_type": "code",
   "execution_count": 12,
   "metadata": {},
   "outputs": [],
   "source": [
    "ls2 = [\"Lia\", \"Emma\", \"Noah\", \"Olivia\", \"William\", \"Ava\", \"James\", \"Isabella\"]"
   ]
  },
  {
   "cell_type": "code",
   "execution_count": 13,
   "metadata": {},
   "outputs": [
    {
     "data": {
      "text/plain": [
       "'Lia'"
      ]
     },
     "execution_count": 13,
     "metadata": {},
     "output_type": "execute_result"
    }
   ],
   "source": [
    "a = iter(ls2)\n",
    "next(a)"
   ]
  },
  {
   "cell_type": "markdown",
   "metadata": {},
   "source": [
    "**Problem 4** \n",
    "\n",
    "Below is defined a function that outputs the list of all characters of an input text in reversed order. The function is called for an example input text. Based on this function create a generator function \"str_rev_gen\" that does the same thing, call the function for the given example text and put it in a list function to get the same output as in case of the given function."
   ]
  },
  {
   "cell_type": "code",
   "execution_count": 5,
   "metadata": {},
   "outputs": [
    {
     "name": "stdout",
     "output_type": "stream",
     "text": [
      "['.', 't', 's', 'i', 't', 'n', 'e', 'i', 'c', 's', ' ', 'a', 't', 'a', 'd', ' ', 'a', ' ', 'm', 'a', ' ', 'I']\n"
     ]
    }
   ],
   "source": [
    "def str_rev(text):\n",
    "    rev_let = []\n",
    "    for i in text[::-1]:\n",
    "        rev_let.append(i)\n",
    "    return rev_let\n",
    "print(str_rev(\"I am a data scientist.\"))"
   ]
  },
  {
   "cell_type": "code",
   "execution_count": 14,
   "metadata": {},
   "outputs": [
    {
     "name": "stdout",
     "output_type": "stream",
     "text": [
      "['.', 't', 's', 'i', 't', 'n', 'e', 'i', 'c', 's', ' ', 'a', 't', 'a', 'd', ' ', 'a', ' ', 'm', 'a', ' ', 'I']\n"
     ]
    }
   ],
   "source": [
    "def str_rev_gen(text):\n",
    "    for i in text[::-1]:\n",
    "        yield i\n",
    "    \n",
    "print(list(str_rev_gen(\"I am a data scientist.\")))"
   ]
  },
  {
   "cell_type": "markdown",
   "metadata": {},
   "source": [
    "**Problem 5**\n",
    "\n",
    "Create a generator function that yields vowels of an input text. Make sure to take into account uppercase vowels too. Call the generator for input text \"Abracadabra\" and put it in a list."
   ]
  },
  {
   "cell_type": "code",
   "execution_count": 19,
   "metadata": {},
   "outputs": [
    {
     "data": {
      "text/plain": [
       "['A', 'a', 'a', 'a', 'a']"
      ]
     },
     "execution_count": 19,
     "metadata": {},
     "output_type": "execute_result"
    }
   ],
   "source": [
    "input_ = \"Abracadabra\"\n",
    "vowels = [\"a\", \"e\", \"i\", \"o\", \"u\", \"A\", \"E\", \"I\", \"O\", \"U\"] # or vowels = \"aeiouAEIOU\"\n",
    "def count_vowels(text):\n",
    "    for i in text:\n",
    "        if i in vowels:\n",
    "            yield i\n",
    "\n",
    "list(count_vowels(input_))\n",
    "    "
   ]
  },
  {
   "cell_type": "markdown",
   "metadata": {},
   "source": [
    "**Problem 6** \n",
    "\n",
    "Make below list comprehension a generator comprehension."
   ]
  },
  {
   "cell_type": "code",
   "execution_count": 20,
   "metadata": {},
   "outputs": [],
   "source": [
    "ls2 = [\"Lia\", \"Emma\", \"Noah\", \"Olivia\", \"William\", \"Ava\", \"James\", \"Isabella\"]"
   ]
  },
  {
   "cell_type": "code",
   "execution_count": 21,
   "metadata": {},
   "outputs": [
    {
     "data": {
      "text/plain": [
       "['Lia', 'Emma', 'Noah', 'Ava']"
      ]
     },
     "execution_count": 21,
     "metadata": {},
     "output_type": "execute_result"
    }
   ],
   "source": [
    "[i for i in ls2 if len(i)<=4]"
   ]
  },
  {
   "cell_type": "code",
   "execution_count": 23,
   "metadata": {},
   "outputs": [
    {
     "data": {
      "text/plain": [
       "<generator object <genexpr> at 0x0000023D45D78200>"
      ]
     },
     "execution_count": 23,
     "metadata": {},
     "output_type": "execute_result"
    }
   ],
   "source": [
    "(i for i in ls2 if len(i) <= 4)"
   ]
  },
  {
   "cell_type": "markdown",
   "metadata": {},
   "source": [
    "**Problem 7**\n",
    "<br>a. Write a lambda function that raises a number to the third power and maps it on the following list creating a new list named \"result\".<br>\n",
    "b.  Define a function that takes a number as an input and returns True if it is odd and False otherwise. Filter \"result\" list keeping only odd numbers using the function defined."
   ]
  },
  {
   "cell_type": "code",
   "execution_count": 3,
   "metadata": {},
   "outputs": [
    {
     "data": {
      "text/plain": [
       "[27, 64, 125, 216, 343]"
      ]
     },
     "execution_count": 3,
     "metadata": {},
     "output_type": "execute_result"
    }
   ],
   "source": [
    "#a \n",
    "nums = [3, 4, 5, 6, 7]\n",
    "###_____________Start code here_________________###\n",
    "result = list(map(lambda x: x**3, nums))\n",
    "result\n",
    "###_____________End code here_________________###"
   ]
  },
  {
   "cell_type": "code",
   "execution_count": 4,
   "metadata": {},
   "outputs": [
    {
     "data": {
      "text/plain": [
       "[27, 125, 343]"
      ]
     },
     "execution_count": 4,
     "metadata": {},
     "output_type": "execute_result"
    }
   ],
   "source": [
    "#b\n",
    "###_____________Start code here_________________###\n",
    "def check(n):\n",
    "    if n % 2 == 0:\n",
    "        return False\n",
    "    else:\n",
    "        return True\n",
    "r = list(filter(check, result))\n",
    "r\n",
    "###_____________End code here_________________###"
   ]
  },
  {
   "cell_type": "markdown",
   "metadata": {},
   "source": [
    "**Problem 8**\n",
    "\n",
    "Print your current working directory"
   ]
  },
  {
   "cell_type": "code",
   "execution_count": 35,
   "metadata": {},
   "outputs": [
    {
     "name": "stdout",
     "output_type": "stream",
     "text": [
      "C:\\Users\\Aida\\Documents\\Homework 2 Part 1\n"
     ]
    }
   ],
   "source": [
    "import os\n",
    "print(os.getcwd())"
   ]
  },
  {
   "cell_type": "markdown",
   "metadata": {},
   "source": [
    "**Problem 9**\n",
    "\n",
    "Get the names of the files in your current working directory. Select a random txt filename from the obtained list and print it."
   ]
  },
  {
   "cell_type": "code",
   "execution_count": 42,
   "metadata": {},
   "outputs": [
    {
     "name": "stdout",
     "output_type": "stream",
     "text": [
      "file3.txt\n"
     ]
    }
   ],
   "source": [
    "import os\n",
    "import random\n",
    "files = [i for i in os.listdir() if i.endswith(\".txt\")]\n",
    "print(random.choice(files))"
   ]
  },
  {
   "cell_type": "markdown",
   "metadata": {},
   "source": [
    "**Problem 10**"
   ]
  },
  {
   "cell_type": "markdown",
   "metadata": {},
   "source": [
    "Change directory to delme folder and delete all the files located inside that folder."
   ]
  },
  {
   "cell_type": "code",
   "execution_count": 3,
   "metadata": {},
   "outputs": [],
   "source": [
    "import os\n",
    "os.getcwd()\n",
    "os.chdir(\"rec_task/delme/\")"
   ]
  },
  {
   "cell_type": "code",
   "execution_count": 4,
   "metadata": {},
   "outputs": [],
   "source": [
    "os.remove(\"secret.txt\")"
   ]
  },
  {
   "cell_type": "markdown",
   "metadata": {},
   "source": [
    "**Problem 11** \n",
    "\n",
    "While you are still located in delme folder, change directory to delme_rec folder without changing directory to any intermediate folders, and delete all the files (not folders) located there."
   ]
  },
  {
   "cell_type": "code",
   "execution_count": 8,
   "metadata": {},
   "outputs": [],
   "source": [
    "os.chdir(\"..\\\\delme_rec\")\n",
    "for cdir, folds, files in os.walk(os.getcwd()):\n",
    "    for j in files:\n",
    "        os.remove(cdir+\"\\\\\"+j)"
   ]
  },
  {
   "cell_type": "markdown",
   "metadata": {},
   "source": [
    "**Problem 12**\n",
    "\n",
    "Find the secret file in the delme_rec_dif folder and print its content"
   ]
  },
  {
   "cell_type": "code",
   "execution_count": 8,
   "metadata": {},
   "outputs": [],
   "source": [
    "os.chdir(\"../delme_rec_dif\")"
   ]
  },
  {
   "cell_type": "code",
   "execution_count": 10,
   "metadata": {},
   "outputs": [
    {
     "name": "stdout",
     "output_type": "stream",
     "text": [
      "Congratulations you have acquired an indepth knowledge of files.\n",
      "\n",
      "Here is a song to cheer you up!\n",
      "\n",
      "https://www.youtube.com/watch?v=dQw4w9WgXcQ\n"
     ]
    }
   ],
   "source": [
    "for cdir, folds, files in os.walk(os.getcwd()):\n",
    "    for j in files:\n",
    "        with open(cdir+\"\\\\\"+j, \"r\") as fl:\n",
    "            print(fl.read())"
   ]
  },
  {
   "cell_type": "markdown",
   "metadata": {},
   "source": [
    "**Problem 13**\n",
    "\n",
    "Use shutil library to create a copy of delme_rec_diff folder and  delete the folders containing the secret message from the copied directory."
   ]
  },
  {
   "cell_type": "code",
   "execution_count": 8,
   "metadata": {},
   "outputs": [],
   "source": [
    "import shutil\n",
    "os.chdir(\"..\")\n",
    "shutil.copytree(\"delme_rec_dif\",\"delme_rec_dif_archive\")"
   ]
  },
  {
   "cell_type": "code",
   "execution_count": 11,
   "metadata": {},
   "outputs": [],
   "source": [
    "os.chdir(\"delme_rec_dif_archive\")"
   ]
  },
  {
   "cell_type": "code",
   "execution_count": 12,
   "metadata": {},
   "outputs": [],
   "source": [
    "shutil.rmtree(\"R\")"
   ]
  },
  {
   "cell_type": "markdown",
   "metadata": {},
   "source": [
    "**Problem 14**\n",
    "\n",
    "Write a lambda function that takes name and surname as input via input() function and returns an email address in AUA format. \n",
    "\n",
    "Example of AUA format: davit_abgaryan@edu.aua.am"
   ]
  },
  {
   "cell_type": "code",
   "execution_count": 1,
   "metadata": {},
   "outputs": [
    {
     "name": "stdout",
     "output_type": "stream",
     "text": [
      "Please provide your name:  Davit\n",
      "Please provide your surname:  Abgaryan\n"
     ]
    }
   ],
   "source": [
    "name = input(\"Please provide your name:  \")\n",
    "surname = input(\"Please provide your surname:  \")"
   ]
  },
  {
   "cell_type": "code",
   "execution_count": 3,
   "metadata": {},
   "outputs": [
    {
     "data": {
      "text/plain": [
       "'davit_abgaryan@edu.aua.am'"
      ]
     },
     "execution_count": 3,
     "metadata": {},
     "output_type": "execute_result"
    }
   ],
   "source": [
    "email = lambda x, y: x.lower() + \"_\" + y.lower() + \"@edu.aua.am\"\n",
    "email(name, surname)"
   ]
  },
  {
   "cell_type": "markdown",
   "metadata": {},
   "source": [
    "**Problem 15** \n",
    "\n",
    "Count the number of occurence of each word in lotr_text.txt file and append your results to the end of the lotr_text file in the following format.\n",
    "\n",
    "word1: word1_count<br>\n",
    "word2: word2_count\n",
    "\n",
    "**Restriction:** You are allowed to open and close the file only once."
   ]
  },
  {
   "cell_type": "code",
   "execution_count": 13,
   "metadata": {},
   "outputs": [],
   "source": [
    "with open(\"lotr_text.txt\", \"r+\") as fl:\n",
    "    words = fl.read().split()\n",
    "    st = set(words)\n",
    "    for i in st:\n",
    "        fl.write(i + \":\" + str(words.count(i))+ \"\\n\")   "
   ]
  },
  {
   "cell_type": "markdown",
   "metadata": {},
   "source": [
    "**Problem 16**\n",
    "\n",
    "\n",
    "Write a function that takes number N as input and computes the inverse square root of that number ( 1/sqrt(N) ). Add an assert statement to check whether the number is greater than 0."
   ]
  },
  {
   "cell_type": "code",
   "execution_count": 10,
   "metadata": {},
   "outputs": [
    {
     "data": {
      "text/plain": [
       "0.25"
      ]
     },
     "execution_count": 10,
     "metadata": {},
     "output_type": "execute_result"
    }
   ],
   "source": [
    "import math\n",
    "def inverse_sqrt(N):\n",
    "    assert N > 0, \"Number must be greater than 0\"\n",
    "    return 1/math.sqrt(N)\n",
    "inverse_sqrt(16)"
   ]
  },
  {
   "cell_type": "markdown",
   "metadata": {},
   "source": [
    "**Problem 17**\n",
    "\n",
    "Write a program that tries to read a txt file with \"filename\" and catches \"not such file\" exception, printing \"There is no such file!\". "
   ]
  },
  {
   "cell_type": "code",
   "execution_count": 1,
   "metadata": {},
   "outputs": [],
   "source": [
    "filename= \"None.txt\""
   ]
  },
  {
   "cell_type": "code",
   "execution_count": 4,
   "metadata": {},
   "outputs": [
    {
     "name": "stdout",
     "output_type": "stream",
     "text": [
      "There is no such file!\n"
     ]
    }
   ],
   "source": [
    "try:\n",
    "    with open(filename, \"r\") as fl:\n",
    "        print(fl.read())\n",
    "except FileNotFoundError:\n",
    "    print(\"There is no such file!\")"
   ]
  },
  {
   "cell_type": "markdown",
   "metadata": {},
   "source": [
    "**Problem 18**\n",
    "\n",
    "Explain what compile does and why compiled statements execute faster based on below benchmark."
   ]
  },
  {
   "cell_type": "code",
   "execution_count": 3,
   "metadata": {},
   "outputs": [
    {
     "name": "stdout",
     "output_type": "stream",
     "text": [
      "136 µs ± 7.38 µs per loop (mean ± std. dev. of 7 runs, 10000 loops each)\n"
     ]
    }
   ],
   "source": [
    "%%timeit\n",
    "exec(\"10000000+10000000+10000000\")\n",
    "exec(\"10000000+10000000+10000000\")\n",
    "exec(\"10000000+10000000+10000000\")\n",
    "exec(\"10000000+10000000+10000000\")\n",
    "exec(\"10000000+10000000+10000000\")\n",
    "exec(\"10000000+10000000+10000000\")\n",
    "exec(\"10000000+10000000+10000000\")\n",
    "exec(\"10000000+10000000+10000000\")\n",
    "exec(\"10000000+10000000+10000000\")\n",
    "exec(\"10000000+10000000+10000000\")\n",
    "exec(\"10000000+10000000+10000000\")\n",
    "exec(\"10000000+10000000+10000000\")\n",
    "exec(\"10000000+10000000+10000000\")\n",
    "exec(\"10000000+10000000+10000000\")\n",
    "exec(\"10000000+10000000+10000000\")\n",
    "exec(\"10000000+10000000+10000000\")"
   ]
  },
  {
   "cell_type": "code",
   "execution_count": 4,
   "metadata": {},
   "outputs": [
    {
     "name": "stdout",
     "output_type": "stream",
     "text": [
      "13.1 µs ± 1.2 µs per loop (mean ± std. dev. of 7 runs, 100000 loops each)\n"
     ]
    }
   ],
   "source": [
    "%%timeit\n",
    "st = compile(\"10000000+10000000+10000000\",\"somestring\",\"exec\")\n",
    "exec(st)\n",
    "exec(st)\n",
    "exec(st)\n",
    "exec(st)\n",
    "exec(st)\n",
    "exec(st)\n",
    "exec(st)\n",
    "exec(st)\n",
    "exec(st)\n",
    "exec(st)\n",
    "exec(st)\n",
    "exec(st)\n",
    "exec(st)\n",
    "exec(st)\n",
    "exec(st)\n",
    "exec(st)"
   ]
  },
  {
   "cell_type": "markdown",
   "metadata": {},
   "source": [
    "The compile() method is used if the code is in string form or in an AST object and you want to change it into a Python code.\n",
    "In the above example, we see that with compile() the program works faster, it is because in case of compile(), the program compiles the expression once and executes the compiled code for several times. The first example is slower because it executes the code again and again for each line."
   ]
  },
  {
   "cell_type": "markdown",
   "metadata": {},
   "source": [
    "# END"
   ]
  }
 ],
 "metadata": {
  "kernelspec": {
   "display_name": "Python 3",
   "language": "python",
   "name": "python3"
  },
  "language_info": {
   "codemirror_mode": {
    "name": "ipython",
    "version": 3
   },
   "file_extension": ".py",
   "mimetype": "text/x-python",
   "name": "python",
   "nbconvert_exporter": "python",
   "pygments_lexer": "ipython3",
   "version": "3.8.5"
  }
 },
 "nbformat": 4,
 "nbformat_minor": 5
}
