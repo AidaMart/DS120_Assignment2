{
 "cells": [
  {
   "cell_type": "markdown",
   "metadata": {},
   "source": [
    "# Homework 2 Part 2\n",
    "\n",
    "Name: Aida\n",
    "<br>\n",
    "Surname: Martirosyan"
   ]
  },
  {
   "cell_type": "code",
   "execution_count": 1,
   "metadata": {},
   "outputs": [],
   "source": [
    "import numpy as np"
   ]
  },
  {
   "cell_type": "markdown",
   "metadata": {},
   "source": [
    "**Problem 1**\n",
    "\n",
    "Create a numpy array of dimensions (5,5) with random numbers in range \\[0, 1) and print its shape, number of dimensions and data type of its elements."
   ]
  },
  {
   "cell_type": "code",
   "execution_count": 2,
   "metadata": {},
   "outputs": [
    {
     "data": {
      "text/plain": [
       "array([[0.93610836, 0.67282134, 0.32992624, 0.36606782, 0.27044522],\n",
       "       [0.01209689, 0.2249099 , 0.10287276, 0.15694297, 0.04924222],\n",
       "       [0.13416987, 0.6603679 , 0.1256347 , 0.88370192, 0.95268117],\n",
       "       [0.70799196, 0.35018104, 0.54364751, 0.91040984, 0.69069897],\n",
       "       [0.03408122, 0.57948259, 0.55927392, 0.01315142, 0.69826483]])"
      ]
     },
     "execution_count": 2,
     "metadata": {},
     "output_type": "execute_result"
    }
   ],
   "source": [
    "a = np.random.rand(5,5)\n",
    "a"
   ]
  },
  {
   "cell_type": "code",
   "execution_count": 3,
   "metadata": {},
   "outputs": [
    {
     "name": "stdout",
     "output_type": "stream",
     "text": [
      "(5, 5)\n",
      "2\n",
      "float64\n"
     ]
    }
   ],
   "source": [
    "print(a.shape)\n",
    "print(a.ndim)\n",
    "print(a.dtype)"
   ]
  },
  {
   "cell_type": "markdown",
   "metadata": {},
   "source": [
    "**Problem 2**\n",
    "\n",
    "Change the data type of elements of the numpy array created in Problem 1 to int and keep only even numbers in the array (the shape of output does not matter)."
   ]
  },
  {
   "cell_type": "code",
   "execution_count": 4,
   "metadata": {},
   "outputs": [
    {
     "data": {
      "text/plain": [
       "dtype('int32')"
      ]
     },
     "execution_count": 4,
     "metadata": {},
     "output_type": "execute_result"
    }
   ],
   "source": [
    "a1 = a.astype(int)\n",
    "a1.dtype"
   ]
  },
  {
   "cell_type": "code",
   "execution_count": 6,
   "metadata": {},
   "outputs": [
    {
     "data": {
      "text/plain": [
       "array([0, 0, 0, 0, 0, 0, 0, 0, 0, 0, 0, 0, 0, 0, 0, 0, 0, 0, 0, 0, 0, 0,\n",
       "       0, 0, 0])"
      ]
     },
     "execution_count": 6,
     "metadata": {},
     "output_type": "execute_result"
    }
   ],
   "source": [
    "a1[a1 % 2 == 0]"
   ]
  },
  {
   "cell_type": "markdown",
   "metadata": {},
   "source": [
    "**Problem 3**\n",
    "\n",
    "Create a numpy array of zeros, a numpy arrays of ones, and an identity matrix of shape (7,7) (all 3). Sum the arrays and print the result."
   ]
  },
  {
   "cell_type": "code",
   "execution_count": 17,
   "metadata": {},
   "outputs": [
    {
     "data": {
      "text/plain": [
       "array([[0., 0., 0., 0., 0., 0., 0.],\n",
       "       [0., 0., 0., 0., 0., 0., 0.],\n",
       "       [0., 0., 0., 0., 0., 0., 0.],\n",
       "       [0., 0., 0., 0., 0., 0., 0.],\n",
       "       [0., 0., 0., 0., 0., 0., 0.],\n",
       "       [0., 0., 0., 0., 0., 0., 0.],\n",
       "       [0., 0., 0., 0., 0., 0., 0.]])"
      ]
     },
     "execution_count": 17,
     "metadata": {},
     "output_type": "execute_result"
    }
   ],
   "source": [
    "array0 = np.zeros((7,7))\n",
    "array0"
   ]
  },
  {
   "cell_type": "code",
   "execution_count": 18,
   "metadata": {},
   "outputs": [
    {
     "data": {
      "text/plain": [
       "array([[1., 1., 1., 1., 1., 1., 1.],\n",
       "       [1., 1., 1., 1., 1., 1., 1.],\n",
       "       [1., 1., 1., 1., 1., 1., 1.],\n",
       "       [1., 1., 1., 1., 1., 1., 1.],\n",
       "       [1., 1., 1., 1., 1., 1., 1.],\n",
       "       [1., 1., 1., 1., 1., 1., 1.],\n",
       "       [1., 1., 1., 1., 1., 1., 1.]])"
      ]
     },
     "execution_count": 18,
     "metadata": {},
     "output_type": "execute_result"
    }
   ],
   "source": [
    "array1 = np.ones((7,7))\n",
    "array1"
   ]
  },
  {
   "cell_type": "code",
   "execution_count": 21,
   "metadata": {},
   "outputs": [
    {
     "data": {
      "text/plain": [
       "array([[1., 0., 0., 0., 0., 0., 0.],\n",
       "       [0., 1., 0., 0., 0., 0., 0.],\n",
       "       [0., 0., 1., 0., 0., 0., 0.],\n",
       "       [0., 0., 0., 1., 0., 0., 0.],\n",
       "       [0., 0., 0., 0., 1., 0., 0.],\n",
       "       [0., 0., 0., 0., 0., 1., 0.],\n",
       "       [0., 0., 0., 0., 0., 0., 1.]])"
      ]
     },
     "execution_count": 21,
     "metadata": {},
     "output_type": "execute_result"
    }
   ],
   "source": [
    "mat = np.eye(7)\n",
    "mat"
   ]
  },
  {
   "cell_type": "code",
   "execution_count": 25,
   "metadata": {},
   "outputs": [
    {
     "data": {
      "text/plain": [
       "array([[2., 1., 1., 1., 1., 1., 1.],\n",
       "       [1., 2., 1., 1., 1., 1., 1.],\n",
       "       [1., 1., 2., 1., 1., 1., 1.],\n",
       "       [1., 1., 1., 2., 1., 1., 1.],\n",
       "       [1., 1., 1., 1., 2., 1., 1.],\n",
       "       [1., 1., 1., 1., 1., 2., 1.],\n",
       "       [1., 1., 1., 1., 1., 1., 2.]])"
      ]
     },
     "execution_count": 25,
     "metadata": {},
     "output_type": "execute_result"
    }
   ],
   "source": [
    "sum_ = array0 + array1 + mat\n",
    "sum_"
   ]
  },
  {
   "cell_type": "markdown",
   "metadata": {},
   "source": [
    "**Problem 4**\n",
    "\n",
    "Create 10x10 multiplication table as a numpy array."
   ]
  },
  {
   "cell_type": "code",
   "execution_count": null,
   "metadata": {},
   "outputs": [],
   "source": [
    "# Here is the output\n",
    "[[  1   2   3   4   5   6   7   8   9  10]\n",
    " [  2   4   6   8  10  12  14  16  18  20]\n",
    " [  3   6   9  12  15  18  21  24  27  30]\n",
    " [  4   8  12  16  20  24  28  32  36  40]\n",
    " [  5  10  15  20  25  30  35  40  45  50]\n",
    " [  6  12  18  24  30  36  42  48  54  60]\n",
    " [  7  14  21  28  35  42  49  56  63  70]\n",
    " [  8  16  24  32  40  48  56  64  72  80]\n",
    " [  9  18  27  36  45  54  63  72  81  90]\n",
    " [ 10  20  30  40  50  60  70  80  90 100]]"
   ]
  },
  {
   "cell_type": "code",
   "execution_count": 43,
   "metadata": {},
   "outputs": [
    {
     "data": {
      "text/plain": [
       "array([[  1,   2,   3,   4,   5,   6,   7,   8,   9,  10],\n",
       "       [  2,   4,   6,   8,  10,  12,  14,  16,  18,  20],\n",
       "       [  3,   6,   9,  12,  15,  18,  21,  24,  27,  30],\n",
       "       [  4,   8,  12,  16,  20,  24,  28,  32,  36,  40],\n",
       "       [  5,  10,  15,  20,  25,  30,  35,  40,  45,  50],\n",
       "       [  6,  12,  18,  24,  30,  36,  42,  48,  54,  60],\n",
       "       [  7,  14,  21,  28,  35,  42,  49,  56,  63,  70],\n",
       "       [  8,  16,  24,  32,  40,  48,  56,  64,  72,  80],\n",
       "       [  9,  18,  27,  36,  45,  54,  63,  72,  81,  90],\n",
       "       [ 10,  20,  30,  40,  50,  60,  70,  80,  90, 100]])"
      ]
     },
     "execution_count": 43,
     "metadata": {},
     "output_type": "execute_result"
    }
   ],
   "source": [
    "np.c_[1:11:1, 2:21:2, 3:31:3, 4:41:4, 5:51:5, 6:61:6, 7:71:7, 8:81:8, 9:91:9, 10:101:10] # first solution"
   ]
  },
  {
   "cell_type": "code",
   "execution_count": 34,
   "metadata": {},
   "outputs": [],
   "source": [
    "ls = []   # second solution\n",
    "for i in range(1, 11):\n",
    "    for j in range(1, 11):\n",
    "        ls.append(i*j)\n",
    "ls = np.array(ls)"
   ]
  },
  {
   "cell_type": "code",
   "execution_count": 35,
   "metadata": {},
   "outputs": [
    {
     "data": {
      "text/plain": [
       "array([[  1,   2,   3,   4,   5,   6,   7,   8,   9,  10],\n",
       "       [  2,   4,   6,   8,  10,  12,  14,  16,  18,  20],\n",
       "       [  3,   6,   9,  12,  15,  18,  21,  24,  27,  30],\n",
       "       [  4,   8,  12,  16,  20,  24,  28,  32,  36,  40],\n",
       "       [  5,  10,  15,  20,  25,  30,  35,  40,  45,  50],\n",
       "       [  6,  12,  18,  24,  30,  36,  42,  48,  54,  60],\n",
       "       [  7,  14,  21,  28,  35,  42,  49,  56,  63,  70],\n",
       "       [  8,  16,  24,  32,  40,  48,  56,  64,  72,  80],\n",
       "       [  9,  18,  27,  36,  45,  54,  63,  72,  81,  90],\n",
       "       [ 10,  20,  30,  40,  50,  60,  70,  80,  90, 100]])"
      ]
     },
     "execution_count": 35,
     "metadata": {},
     "output_type": "execute_result"
    }
   ],
   "source": [
    "ls.reshape(10,10, order = \"C\")"
   ]
  },
  {
   "cell_type": "markdown",
   "metadata": {},
   "source": [
    "**Problem 5**\n",
    "\n",
    "Use np.r_ function to generate an array of all single digit precision floating numbers between [0,1] .\n",
    "The numbers are 0. , 0.1, 0.2, 0.3, 0.4, 0.5, 0.6, 0.7, 0.8, 0.9, and 1. ."
   ]
  },
  {
   "cell_type": "code",
   "execution_count": 36,
   "metadata": {},
   "outputs": [
    {
     "data": {
      "text/plain": [
       "array([0. , 0.1, 0.2, 0.3, 0.4, 0.5, 0.6, 0.7, 0.8, 0.9, 1. ])"
      ]
     },
     "execution_count": 36,
     "metadata": {},
     "output_type": "execute_result"
    }
   ],
   "source": [
    "np.r_[0:1.1:0.1]"
   ]
  },
  {
   "cell_type": "markdown",
   "metadata": {},
   "source": [
    "**Problem 6**\n",
    "\n",
    "Use np.c_ function to generate a numpy array where the first column contains even integers between [1,10] and the second columns contain the odd numbers in the same range."
   ]
  },
  {
   "cell_type": "code",
   "execution_count": 40,
   "metadata": {},
   "outputs": [
    {
     "data": {
      "text/plain": [
       "array([[ 2,  1],\n",
       "       [ 4,  3],\n",
       "       [ 6,  5],\n",
       "       [ 8,  7],\n",
       "       [10,  9]])"
      ]
     },
     "execution_count": 40,
     "metadata": {},
     "output_type": "execute_result"
    }
   ],
   "source": [
    "np.c_[2:11:2, 1:10:2]"
   ]
  },
  {
   "cell_type": "markdown",
   "metadata": {},
   "source": [
    "**Problem 7**\n",
    "\n",
    "Generate a 10000x10000 dimensional matrix with numpy zeroes, resizing numpy array with one element equal to 0, tiling list [0], array+list operations with list [0], and array+list_comprehension approaches, and calculate the execution time."
   ]
  },
  {
   "cell_type": "code",
   "execution_count": 19,
   "metadata": {},
   "outputs": [
    {
     "name": "stdout",
     "output_type": "stream",
     "text": [
      "10.1 ms ± 808 µs per loop (mean ± std. dev. of 7 runs, 100 loops each)\n"
     ]
    }
   ],
   "source": [
    "%%timeit\n",
    "m = np.zeros((10000, 10000))"
   ]
  },
  {
   "cell_type": "code",
   "execution_count": 21,
   "metadata": {},
   "outputs": [
    {
     "name": "stdout",
     "output_type": "stream",
     "text": [
      "171 ms ± 1.54 ms per loop (mean ± std. dev. of 7 runs, 10 loops each)\n"
     ]
    }
   ],
   "source": [
    "%%timeit\n",
    "arr = np.array([0])\n",
    "arr.resize((10000, 10000))"
   ]
  },
  {
   "cell_type": "code",
   "execution_count": 23,
   "metadata": {},
   "outputs": [
    {
     "name": "stdout",
     "output_type": "stream",
     "text": [
      "488 ms ± 27 ms per loop (mean ± std. dev. of 7 runs, 1 loop each)\n"
     ]
    }
   ],
   "source": [
    "%%timeit\n",
    "np.tile([0], (10000, 10000))"
   ]
  },
  {
   "cell_type": "code",
   "execution_count": null,
   "metadata": {},
   "outputs": [],
   "source": [
    "%%timeit\n",
    "np.array([[0]*10000]*10000)"
   ]
  },
  {
   "cell_type": "code",
   "execution_count": null,
   "metadata": {},
   "outputs": [],
   "source": [
    "%%timeit\n",
    "np.array([[0 for i in range(10000)] for i in range(10000)])"
   ]
  },
  {
   "cell_type": "markdown",
   "metadata": {},
   "source": [
    "**Problem 8**\n",
    "\n",
    "Generate an one-dimensional array of integers between [0,31337] and compute the mean, variance, max, and min of that array. Perform the same operations using built-in Python operations and list comprehension. Calculate the execution time in both cases."
   ]
  },
  {
   "cell_type": "code",
   "execution_count": 6,
   "metadata": {},
   "outputs": [
    {
     "data": {
      "text/plain": [
       "array([    0,     1,     2, ..., 31335, 31336, 31337])"
      ]
     },
     "execution_count": 6,
     "metadata": {},
     "output_type": "execute_result"
    }
   ],
   "source": [
    "n = np.r_[0:31338]\n",
    "n"
   ]
  },
  {
   "cell_type": "code",
   "execution_count": 7,
   "metadata": {},
   "outputs": [
    {
     "name": "stdout",
     "output_type": "stream",
     "text": [
      "15668.5\n",
      "81839186.91666667\n",
      "31337\n",
      "0\n"
     ]
    }
   ],
   "source": [
    "print(np.mean(n))\n",
    "print(np.var(n))\n",
    "print(np.max(n))\n",
    "print(np.min(n))"
   ]
  },
  {
   "cell_type": "code",
   "execution_count": 8,
   "metadata": {},
   "outputs": [
    {
     "name": "stdout",
     "output_type": "stream",
     "text": [
      "15668.5\n",
      "81839186.91666667\n",
      "31337\n",
      "0\n"
     ]
    }
   ],
   "source": [
    "s = sum(n)\n",
    "l = len(n)\n",
    "mean = s/l\n",
    "deviations = [(i - mean)**2 for i in n]\n",
    "variance = sum(deviations)/l\n",
    "\n",
    "print(mean)\n",
    "print(variance)\n",
    "print(max(n))\n",
    "print(min(n))"
   ]
  },
  {
   "cell_type": "code",
   "execution_count": 80,
   "metadata": {},
   "outputs": [
    {
     "name": "stdout",
     "output_type": "stream",
     "text": [
      "228 µs ± 3.12 µs per loop (mean ± std. dev. of 7 runs, 1000 loops each)\n"
     ]
    }
   ],
   "source": [
    "%%timeit\n",
    "np.mean(n)\n",
    "np.var(n)\n",
    "np.max(n)\n",
    "np.min(n)"
   ]
  },
  {
   "cell_type": "code",
   "execution_count": 81,
   "metadata": {},
   "outputs": [
    {
     "name": "stdout",
     "output_type": "stream",
     "text": [
      "102 ms ± 565 µs per loop (mean ± std. dev. of 7 runs, 10 loops each)\n"
     ]
    }
   ],
   "source": [
    "%%timeit\n",
    "s = sum(n)\n",
    "l = len(n)\n",
    "mean = s/l\n",
    "deviations = [(i - mean)**2 for i in n]\n",
    "variance = sum(deviations)/l\n",
    "\n",
    "max(n)\n",
    "min(n)"
   ]
  },
  {
   "cell_type": "markdown",
   "metadata": {},
   "source": [
    "**Problem 9**\n",
    "\n",
    "Generate a diagonal matrix with shape (5,5) containing elements in range [1,5] and rotate the matrix by 180 degrees using slicing. The output will be:\n",
    "\n",
    "[[5, 0, 0, 0, 0],\n",
    "\n",
    "[0, 4, 0, 0, 0],\n",
    "\n",
    "[0, 0, 3, 0, 0],\n",
    "\n",
    "[0, 0, 0, 2, 0],\n",
    "\n",
    "[0, 0, 0, 0, 1]]"
   ]
  },
  {
   "cell_type": "code",
   "execution_count": 37,
   "metadata": {},
   "outputs": [
    {
     "data": {
      "text/plain": [
       "array([[1, 0, 0, 0, 0],\n",
       "       [0, 2, 0, 0, 0],\n",
       "       [0, 0, 3, 0, 0],\n",
       "       [0, 0, 0, 4, 0],\n",
       "       [0, 0, 0, 0, 5]])"
      ]
     },
     "execution_count": 37,
     "metadata": {},
     "output_type": "execute_result"
    }
   ],
   "source": [
    "d = np.diag([1,2,3,4,5])\n",
    "d"
   ]
  },
  {
   "cell_type": "code",
   "execution_count": 40,
   "metadata": {},
   "outputs": [
    {
     "data": {
      "text/plain": [
       "array([[5, 0, 0, 0, 0],\n",
       "       [0, 4, 0, 0, 0],\n",
       "       [0, 0, 3, 0, 0],\n",
       "       [0, 0, 0, 2, 0],\n",
       "       [0, 0, 0, 0, 1]])"
      ]
     },
     "execution_count": 40,
     "metadata": {},
     "output_type": "execute_result"
    }
   ],
   "source": [
    "d[::-1,::-1]"
   ]
  },
  {
   "cell_type": "markdown",
   "metadata": {},
   "source": [
    "**Problem 10**\n",
    "\n",
    "Generate 4 matrices of random integers in range \\[10,20) with shape(3,3). Use hstack and vstack functions to obtain a 6 by 6 matrix from those 4 matrices. Do the same with np.concatenate function."
   ]
  },
  {
   "cell_type": "code",
   "execution_count": 48,
   "metadata": {},
   "outputs": [],
   "source": [
    "mat1 = np.random.randint(low = 10, high = 20, size = (3,3))\n",
    "mat2 = np.random.randint(low = 10, high = 20, size = (3,3))\n",
    "mat3 = np.random.randint(low = 10, high = 20, size = (3,3))\n",
    "mat4 = np.random.randint(low = 10, high = 20, size = (3,3))"
   ]
  },
  {
   "cell_type": "code",
   "execution_count": 69,
   "metadata": {},
   "outputs": [
    {
     "name": "stdout",
     "output_type": "stream",
     "text": [
      "[[10 15 18]\n",
      " [11 16 12]\n",
      " [14 18 15]] \n",
      "\n",
      "[[13 13 12]\n",
      " [11 10 12]\n",
      " [16 11 13]] \n",
      "\n",
      "[[19 19 11]\n",
      " [10 18 19]\n",
      " [17 16 17]] \n",
      "\n",
      "[[13 14 10]\n",
      " [16 12 17]\n",
      " [13 12 19]] \n",
      "\n"
     ]
    }
   ],
   "source": [
    "print(mat1, \"\\n\")\n",
    "print(mat2, \"\\n\")\n",
    "print(mat3, \"\\n\")\n",
    "print(mat4, \"\\n\")"
   ]
  },
  {
   "cell_type": "code",
   "execution_count": 70,
   "metadata": {},
   "outputs": [
    {
     "data": {
      "text/plain": [
       "array([[10, 15, 18, 19, 19, 11],\n",
       "       [11, 16, 12, 10, 18, 19],\n",
       "       [14, 18, 15, 17, 16, 17]])"
      ]
     },
     "execution_count": 70,
     "metadata": {},
     "output_type": "execute_result"
    }
   ],
   "source": [
    "step1 = np.hstack((mat1, mat3))\n",
    "step1"
   ]
  },
  {
   "cell_type": "code",
   "execution_count": 71,
   "metadata": {},
   "outputs": [
    {
     "data": {
      "text/plain": [
       "array([[13, 13, 12, 13, 14, 10],\n",
       "       [11, 10, 12, 16, 12, 17],\n",
       "       [16, 11, 13, 13, 12, 19]])"
      ]
     },
     "execution_count": 71,
     "metadata": {},
     "output_type": "execute_result"
    }
   ],
   "source": [
    "step2 = np.hstack((mat2, mat4))\n",
    "step2"
   ]
  },
  {
   "cell_type": "code",
   "execution_count": 66,
   "metadata": {},
   "outputs": [
    {
     "data": {
      "text/plain": [
       "array([[10, 15, 18, 19, 19, 11],\n",
       "       [11, 16, 12, 10, 18, 19],\n",
       "       [14, 18, 15, 17, 16, 17],\n",
       "       [13, 13, 12, 13, 14, 10],\n",
       "       [11, 10, 12, 16, 12, 17],\n",
       "       [16, 11, 13, 13, 12, 19]])"
      ]
     },
     "execution_count": 66,
     "metadata": {},
     "output_type": "execute_result"
    }
   ],
   "source": [
    "final_step = np.vstack((step1, step2))\n",
    "final_step"
   ]
  },
  {
   "cell_type": "code",
   "execution_count": null,
   "metadata": {},
   "outputs": [],
   "source": []
  },
  {
   "cell_type": "code",
   "execution_count": 72,
   "metadata": {},
   "outputs": [
    {
     "data": {
      "text/plain": [
       "array([[10, 15, 18, 19, 19, 11],\n",
       "       [11, 16, 12, 10, 18, 19],\n",
       "       [14, 18, 15, 17, 16, 17]])"
      ]
     },
     "execution_count": 72,
     "metadata": {},
     "output_type": "execute_result"
    }
   ],
   "source": [
    "s1 = np.concatenate((mat1, mat3), axis = 1)\n",
    "s1"
   ]
  },
  {
   "cell_type": "code",
   "execution_count": 73,
   "metadata": {},
   "outputs": [
    {
     "data": {
      "text/plain": [
       "array([[13, 13, 12, 13, 14, 10],\n",
       "       [11, 10, 12, 16, 12, 17],\n",
       "       [16, 11, 13, 13, 12, 19]])"
      ]
     },
     "execution_count": 73,
     "metadata": {},
     "output_type": "execute_result"
    }
   ],
   "source": [
    "s2 = np.concatenate((mat2, mat4), axis = 1)\n",
    "s2"
   ]
  },
  {
   "cell_type": "code",
   "execution_count": 74,
   "metadata": {},
   "outputs": [
    {
     "data": {
      "text/plain": [
       "array([[10, 15, 18, 19, 19, 11],\n",
       "       [11, 16, 12, 10, 18, 19],\n",
       "       [14, 18, 15, 17, 16, 17],\n",
       "       [13, 13, 12, 13, 14, 10],\n",
       "       [11, 10, 12, 16, 12, 17],\n",
       "       [16, 11, 13, 13, 12, 19]])"
      ]
     },
     "execution_count": 74,
     "metadata": {},
     "output_type": "execute_result"
    }
   ],
   "source": [
    "f_s = np.concatenate((s1, s2), axis = 0)\n",
    "f_s"
   ]
  },
  {
   "cell_type": "markdown",
   "metadata": {},
   "source": [
    "**Problem 11**\n",
    "\n",
    "Generate a 100x100 dimensional array containing only integer 100 and flatten that array using reshape() function."
   ]
  },
  {
   "cell_type": "code",
   "execution_count": 10,
   "metadata": {},
   "outputs": [
    {
     "data": {
      "text/plain": [
       "array([[100, 100, 100, ..., 100, 100, 100]])"
      ]
     },
     "execution_count": 10,
     "metadata": {},
     "output_type": "execute_result"
    }
   ],
   "source": [
    "arr = np.full((100, 100), 100)\n",
    "arr1 = arr.reshape(1,10000, order = \"C\")\n",
    "arr1"
   ]
  },
  {
   "cell_type": "markdown",
   "metadata": {},
   "source": [
    "**Problem 12**\n",
    "\n",
    "Generate a numpy array with shape (10,10) and integers in range \\[0,100) in column-major order and perform transpose operation on it with numpy built-in method and with slicing (second approach may seem harder). "
   ]
  },
  {
   "cell_type": "code",
   "execution_count": 15,
   "metadata": {},
   "outputs": [
    {
     "data": {
      "text/plain": [
       "array([[ 0, 10, 20, 30, 40, 50, 60, 70, 80, 90],\n",
       "       [ 1, 11, 21, 31, 41, 51, 61, 71, 81, 91],\n",
       "       [ 2, 12, 22, 32, 42, 52, 62, 72, 82, 92],\n",
       "       [ 3, 13, 23, 33, 43, 53, 63, 73, 83, 93],\n",
       "       [ 4, 14, 24, 34, 44, 54, 64, 74, 84, 94],\n",
       "       [ 5, 15, 25, 35, 45, 55, 65, 75, 85, 95],\n",
       "       [ 6, 16, 26, 36, 46, 56, 66, 76, 86, 96],\n",
       "       [ 7, 17, 27, 37, 47, 57, 67, 77, 87, 97],\n",
       "       [ 8, 18, 28, 38, 48, 58, 68, 78, 88, 98],\n",
       "       [ 9, 19, 29, 39, 49, 59, 69, 79, 89, 99]])"
      ]
     },
     "execution_count": 15,
     "metadata": {},
     "output_type": "execute_result"
    }
   ],
   "source": [
    "h = np.arange(100)\n",
    "h1 = h.reshape(10, 10, order = \"F\")\n",
    "h1"
   ]
  },
  {
   "cell_type": "code",
   "execution_count": 16,
   "metadata": {},
   "outputs": [
    {
     "data": {
      "text/plain": [
       "array([[ 0,  1,  2,  3,  4,  5,  6,  7,  8,  9],\n",
       "       [10, 11, 12, 13, 14, 15, 16, 17, 18, 19],\n",
       "       [20, 21, 22, 23, 24, 25, 26, 27, 28, 29],\n",
       "       [30, 31, 32, 33, 34, 35, 36, 37, 38, 39],\n",
       "       [40, 41, 42, 43, 44, 45, 46, 47, 48, 49],\n",
       "       [50, 51, 52, 53, 54, 55, 56, 57, 58, 59],\n",
       "       [60, 61, 62, 63, 64, 65, 66, 67, 68, 69],\n",
       "       [70, 71, 72, 73, 74, 75, 76, 77, 78, 79],\n",
       "       [80, 81, 82, 83, 84, 85, 86, 87, 88, 89],\n",
       "       [90, 91, 92, 93, 94, 95, 96, 97, 98, 99]])"
      ]
     },
     "execution_count": 16,
     "metadata": {},
     "output_type": "execute_result"
    }
   ],
   "source": [
    "h1.transpose()"
   ]
  },
  {
   "cell_type": "code",
   "execution_count": null,
   "metadata": {},
   "outputs": [],
   "source": []
  },
  {
   "cell_type": "code",
   "execution_count": 17,
   "metadata": {},
   "outputs": [],
   "source": [
    "h1_transpose = np.zeros((10, 10), dtype = int) #1st solution\n",
    "for i in range(len(h1)):\n",
    "    h1_transpose[i] = h1[:, i]"
   ]
  },
  {
   "cell_type": "code",
   "execution_count": 23,
   "metadata": {},
   "outputs": [
    {
     "data": {
      "text/plain": [
       "array([[ 0,  1,  2,  3,  4,  5,  6,  7,  8,  9],\n",
       "       [10, 11, 12, 13, 14, 15, 16, 17, 18, 19],\n",
       "       [20, 21, 22, 23, 24, 25, 26, 27, 28, 29],\n",
       "       [30, 31, 32, 33, 34, 35, 36, 37, 38, 39],\n",
       "       [40, 41, 42, 43, 44, 45, 46, 47, 48, 49],\n",
       "       [50, 51, 52, 53, 54, 55, 56, 57, 58, 59],\n",
       "       [60, 61, 62, 63, 64, 65, 66, 67, 68, 69],\n",
       "       [70, 71, 72, 73, 74, 75, 76, 77, 78, 79],\n",
       "       [80, 81, 82, 83, 84, 85, 86, 87, 88, 89],\n",
       "       [90, 91, 92, 93, 94, 95, 96, 97, 98, 99]])"
      ]
     },
     "execution_count": 23,
     "metadata": {},
     "output_type": "execute_result"
    }
   ],
   "source": [
    "h1_transpose"
   ]
  },
  {
   "cell_type": "code",
   "execution_count": 3,
   "metadata": {},
   "outputs": [
    {
     "data": {
      "text/plain": [
       "array([[ 0,  1,  2,  3,  4,  5,  6,  7,  8,  9],\n",
       "       [10, 11, 12, 13, 14, 15, 16, 17, 18, 19],\n",
       "       [20, 21, 22, 23, 24, 25, 26, 27, 28, 29],\n",
       "       [30, 31, 32, 33, 34, 35, 36, 37, 38, 39],\n",
       "       [40, 41, 42, 43, 44, 45, 46, 47, 48, 49],\n",
       "       [50, 51, 52, 53, 54, 55, 56, 57, 58, 59],\n",
       "       [60, 61, 62, 63, 64, 65, 66, 67, 68, 69],\n",
       "       [70, 71, 72, 73, 74, 75, 76, 77, 78, 79],\n",
       "       [80, 81, 82, 83, 84, 85, 86, 87, 88, 89],\n",
       "       [90, 91, 92, 93, 94, 95, 96, 97, 98, 99]])"
      ]
     },
     "execution_count": 3,
     "metadata": {},
     "output_type": "execute_result"
    }
   ],
   "source": [
    "np.arange(100).reshape((10,10), order=\"F\")[[[i for i in range(10)] for j in range(10)],[[j for i in range(10)] for j in range(10)]] #2nd solution"
   ]
  },
  {
   "cell_type": "markdown",
   "metadata": {},
   "source": [
    "**Problem 13**\n",
    "\n",
    "Create a diagonal matrix with integers in range [1,10] on the diagonal. Extract the diagonal elements using slicing."
   ]
  },
  {
   "cell_type": "code",
   "execution_count": 42,
   "metadata": {},
   "outputs": [
    {
     "data": {
      "text/plain": [
       "array([[ 1,  0,  0,  0,  0,  0,  0,  0,  0,  0],\n",
       "       [ 0,  2,  0,  0,  0,  0,  0,  0,  0,  0],\n",
       "       [ 0,  0,  3,  0,  0,  0,  0,  0,  0,  0],\n",
       "       [ 0,  0,  0,  4,  0,  0,  0,  0,  0,  0],\n",
       "       [ 0,  0,  0,  0,  5,  0,  0,  0,  0,  0],\n",
       "       [ 0,  0,  0,  0,  0,  6,  0,  0,  0,  0],\n",
       "       [ 0,  0,  0,  0,  0,  0,  7,  0,  0,  0],\n",
       "       [ 0,  0,  0,  0,  0,  0,  0,  8,  0,  0],\n",
       "       [ 0,  0,  0,  0,  0,  0,  0,  0,  9,  0],\n",
       "       [ 0,  0,  0,  0,  0,  0,  0,  0,  0, 10]])"
      ]
     },
     "execution_count": 42,
     "metadata": {},
     "output_type": "execute_result"
    }
   ],
   "source": [
    "f = np.diag([1,2,3,4,5,6,7,8,9,10])\n",
    "f"
   ]
  },
  {
   "cell_type": "code",
   "execution_count": 41,
   "metadata": {},
   "outputs": [
    {
     "name": "stdout",
     "output_type": "stream",
     "text": [
      "[ 1  2  3  4  5  6  7  8  9 10]\n"
     ]
    }
   ],
   "source": [
    "l = f[f != 0]  # first solution\n",
    "print(l)"
   ]
  },
  {
   "cell_type": "code",
   "execution_count": 91,
   "metadata": {},
   "outputs": [
    {
     "name": "stdout",
     "output_type": "stream",
     "text": [
      "1\n",
      "2\n",
      "3\n",
      "4\n",
      "5\n",
      "6\n",
      "7\n",
      "8\n",
      "9\n",
      "10\n"
     ]
    }
   ],
   "source": [
    "for i,j in enumerate(f):  # second solution\n",
    "    for k,l in enumerate(f):\n",
    "        if i == k:\n",
    "            print(f[i, k])\n"
   ]
  },
  {
   "cell_type": "markdown",
   "metadata": {},
   "source": [
    "**Problem 14**\n",
    "\n",
    "Create a 4x4 dimensional array where each row corresponds to integers from [1,4] in decreasing order and sort it rowwise. Now repeat the same operation using argsort and slicing."
   ]
  },
  {
   "cell_type": "code",
   "execution_count": 1,
   "metadata": {},
   "outputs": [
    {
     "data": {
      "text/plain": [
       "array([[4, 3, 2, 1],\n",
       "       [4, 3, 2, 1],\n",
       "       [4, 3, 2, 1],\n",
       "       [4, 3, 2, 1]])"
      ]
     },
     "execution_count": 1,
     "metadata": {},
     "output_type": "execute_result"
    }
   ],
   "source": [
    "d = np.array([[4,3,2,1]]*4)\n",
    "d"
   ]
  },
  {
   "cell_type": "code",
   "execution_count": 2,
   "metadata": {},
   "outputs": [
    {
     "data": {
      "text/plain": [
       "array([[4, 3, 2, 1],\n",
       "       [4, 3, 2, 1],\n",
       "       [4, 3, 2, 1],\n",
       "       [4, 3, 2, 1]])"
      ]
     },
     "execution_count": 2,
     "metadata": {},
     "output_type": "execute_result"
    }
   ],
   "source": [
    "d.sort(axis = 0) #Nothing will happen as the array is already sorted rowwise\n",
    "d"
   ]
  },
  {
   "cell_type": "code",
   "execution_count": null,
   "metadata": {},
   "outputs": [],
   "source": []
  },
  {
   "cell_type": "code",
   "execution_count": 5,
   "metadata": {},
   "outputs": [
    {
     "name": "stdout",
     "output_type": "stream",
     "text": [
      "[[4 3 2 1]\n",
      " [4 3 2 1]\n",
      " [4 3 2 1]\n",
      " [4 3 2 1]]\n"
     ]
    }
   ],
   "source": [
    "d = np.array([[4,3,2,1]]*4)\n",
    "print(d[d.argsort()[:,::-1],d.argsort()[:,::-1]])"
   ]
  },
  {
   "cell_type": "code",
   "execution_count": null,
   "metadata": {},
   "outputs": [],
   "source": []
  },
  {
   "cell_type": "code",
   "execution_count": 6,
   "metadata": {},
   "outputs": [
    {
     "data": {
      "text/plain": [
       "array([[4, 3, 2, 1],\n",
       "       [4, 3, 2, 1],\n",
       "       [4, 3, 2, 1],\n",
       "       [4, 3, 2, 1]])"
      ]
     },
     "execution_count": 6,
     "metadata": {},
     "output_type": "execute_result"
    }
   ],
   "source": [
    "d=np.array([[4,3,2,1]]*4)\n",
    "d[::-1,:]"
   ]
  },
  {
   "cell_type": "markdown",
   "metadata": {},
   "source": [
    "***Problem 15***\n",
    "<br> 5 students' test scores are stored in the 2-d array \"student_scores\". Each row stores the corresponding test's scores. <br>\n",
    "Calculate the mean of grades of each student (columns) and the median of grades per test (rows)?"
   ]
  },
  {
   "cell_type": "code",
   "execution_count": 6,
   "metadata": {},
   "outputs": [],
   "source": [
    "student_scores = np.array([[92, 94, 88, 91, 87],\n",
    "                           [79, 100, 86, 93, 91],\n",
    "                           [87, 85, 72, 90, 92]])"
   ]
  },
  {
   "cell_type": "code",
   "execution_count": 11,
   "metadata": {},
   "outputs": [
    {
     "name": "stdout",
     "output_type": "stream",
     "text": [
      "[86.         93.         82.         91.33333333 90.        ]\n"
     ]
    }
   ],
   "source": [
    "mean_grades = np.mean(student_scores, axis=0)\n",
    "print(mean_grades)"
   ]
  },
  {
   "cell_type": "code",
   "execution_count": 13,
   "metadata": {},
   "outputs": [
    {
     "name": "stdout",
     "output_type": "stream",
     "text": [
      "[91. 91. 87.]\n"
     ]
    }
   ],
   "source": [
    "median_grades = np.median(student_scores, axis = 1)\n",
    "print(median_grades)"
   ]
  },
  {
   "cell_type": "markdown",
   "metadata": {},
   "source": [
    "**Problem 16**<br>\n",
    "Create a logical statement that selects elements in \"porridge\" array that are less than 60, and saves them in a new array called \"cold\".<br>\n",
    "Create a logical statement that finds all elements that are higher than 80 and saves them in an array named \"hot\"."
   ]
  },
  {
   "cell_type": "code",
   "execution_count": 14,
   "metadata": {},
   "outputs": [],
   "source": [
    "porridge = np.array([79, 65, 50, 63, 56, 90, 85, 98, 79, 51])"
   ]
  },
  {
   "cell_type": "code",
   "execution_count": 17,
   "metadata": {},
   "outputs": [
    {
     "data": {
      "text/plain": [
       "array([50, 56, 51])"
      ]
     },
     "execution_count": 17,
     "metadata": {},
     "output_type": "execute_result"
    }
   ],
   "source": [
    "cold = porridge[porridge < 60]\n",
    "cold"
   ]
  },
  {
   "cell_type": "code",
   "execution_count": 18,
   "metadata": {},
   "outputs": [
    {
     "data": {
      "text/plain": [
       "array([90, 85, 98])"
      ]
     },
     "execution_count": 18,
     "metadata": {},
     "output_type": "execute_result"
    }
   ],
   "source": [
    "hot = porridge[porridge > 80]\n",
    "hot"
   ]
  },
  {
   "cell_type": "markdown",
   "metadata": {},
   "source": [
    "# END"
   ]
  }
 ],
 "metadata": {
  "kernelspec": {
   "display_name": "Python 3",
   "language": "python",
   "name": "python3"
  },
  "language_info": {
   "codemirror_mode": {
    "name": "ipython",
    "version": 3
   },
   "file_extension": ".py",
   "mimetype": "text/x-python",
   "name": "python",
   "nbconvert_exporter": "python",
   "pygments_lexer": "ipython3",
   "version": "3.8.5"
  }
 },
 "nbformat": 4,
 "nbformat_minor": 5
}
